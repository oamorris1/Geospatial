{
  "cells": [
    {
      "cell_type": "markdown",
      "source": [
        "# Convert a pandas dataframe to geojson for web-mapping\n",
        "\n",
        "Author: Geoff Boeing\n",
        "\nOriginal: [pandas-to-geojson](https://github.com/gboeing/urban-data-science/blob/dc86c9c89b73f87f97301883d7456f1f814589f5/17-Leaflet-Web-Mapping/pandas-to-geojson.ipynb)"
      ],
      "metadata": {}
    },
    {
      "cell_type": "code",
      "source": [
        "import pandas as pd, requests, json"
      ],
      "outputs": [],
      "execution_count": 1,
      "metadata": {
        "collapsed": false,
        "trusted": false
      }
    },
    {
      "cell_type": "markdown",
      "source": [
        "First download data from the city of Berkeley's API. You can use Socrata's $limit parameter to specify how many rows to grab (otherwise the default is 1,000 rows of data): https://dev.socrata.com/docs/paging.html\n",
        "\nExample request: https://data.cityofberkeley.info/resource/k489-uv4i.json?$limit=5"
      ],
      "metadata": {}
    },
    {
      "cell_type": "code",
      "source": [
        "# API endpoint for city of Berkeley's 311 calls\n",
        "endpoint_url = 'https://data.cityofberkeley.info/resource/k489-uv4i.json?$limit=20'"
      ],
      "outputs": [],
      "execution_count": 2,
      "metadata": {
        "collapsed": true,
        "trusted": false
      }
    },
    {
      "cell_type": "code",
      "source": [
        "# fetch the URL and load the data\n",
        "response = requests.get(endpoint_url)\n",
        "data = response.json()"
      ],
      "outputs": [],
      "execution_count": 3,
      "metadata": {
        "collapsed": true,
        "trusted": false
      }
    },
    {
      "cell_type": "markdown",
      "source": [
        "Next, turn the json data into a dataframe and clean it up a bit: drop unnecessary columns and any rows that lack lat-long data. We want to make our json file as small as possible (prefer under 5 mb) so that it can be loaded over the Internet to anyone viewing your map, without taking forever to download a huge file."
      ],
      "metadata": {}
    },
    {
      "cell_type": "code",
      "source": [
        "# turn the json data into a dataframe and see how many rows and what columns we have\n",
        "df = pd.DataFrame(data)\n",
        "\n",
        "print('We have {} rows'.format(len(df)))\n",
        "str(df.columns.tolist())"
      ],
      "outputs": [
        {
          "output_type": "stream",
          "name": "stdout",
          "text": [
            "We have 20 rows\n"
          ]
        },
        {
          "output_type": "execute_result",
          "execution_count": 4,
          "data": {
            "text/plain": [
              "\"['apn', 'city', 'indbdate', 'issue_description', 'issue_type', 'latitude', 'location', 'longitude', 'neighborhood_district', 'object_type', 'secondary_issue_type', 'state', 'street_address', 'ticket_closed_date_time', 'ticket_created_date_time', 'ticket_id', 'ticket_status']\""
            ]
          },
          "metadata": {}
        }
      ],
      "execution_count": 4,
      "metadata": {
        "collapsed": false,
        "trusted": false
      }
    },
    {
      "cell_type": "code",
      "source": [
        "# convert lat-long to floats and change address from ALL CAPS to regular capitalization\n",
        "df['latitude'] = df['latitude'].astype(float)\n",
        "df['longitude'] = df['longitude'].astype(float)\n",
        "df['street_address'] = df['street_address'].str.title()"
      ],
      "outputs": [],
      "execution_count": 5,
      "metadata": {
        "collapsed": true,
        "trusted": false
      }
    },
    {
      "cell_type": "code",
      "source": [
        "# we don't need all those columns - only keep useful ones\n",
        "cols = ['issue_description', 'issue_type', 'latitude', 'longitude', 'street_address', 'ticket_status']\n",
        "df_subset = df[cols]"
      ],
      "outputs": [],
      "execution_count": 6,
      "metadata": {
        "collapsed": false,
        "trusted": false
      }
    },
    {
      "cell_type": "code",
      "source": [
        "# drop any rows that lack lat/long data\n",
        "df_geo = df_subset.dropna(subset=['latitude', 'longitude'], axis=0, inplace=False)\n",
        "\n",
        "print('We have {} geotagged rows'.format(len(df_geo)))\n",
        "df_geo.tail()"
      ],
      "outputs": [
        {
          "output_type": "stream",
          "name": "stdout",
          "text": [
            "We have 9 geotagged rows\n"
          ]
        },
        {
          "output_type": "execute_result",
          "execution_count": 7,
          "data": {
            "text/html": [
              "<div>\n",
              "<style scoped>\n",
              "    .dataframe tbody tr th:only-of-type {\n",
              "        vertical-align: middle;\n",
              "    }\n",
              "\n",
              "    .dataframe tbody tr th {\n",
              "        vertical-align: top;\n",
              "    }\n",
              "\n",
              "    .dataframe thead th {\n",
              "        text-align: right;\n",
              "    }\n",
              "</style>\n",
              "<table border=\"1\" class=\"dataframe\">\n",
              "  <thead>\n",
              "    <tr style=\"text-align: right;\">\n",
              "      <th></th>\n",
              "      <th>issue_description</th>\n",
              "      <th>issue_type</th>\n",
              "      <th>latitude</th>\n",
              "      <th>longitude</th>\n",
              "      <th>street_address</th>\n",
              "      <th>ticket_status</th>\n",
              "    </tr>\n",
              "  </thead>\n",
              "  <tbody>\n",
              "    <tr>\n",
              "      <th>8</th>\n",
              "      <td>Sewer Problem</td>\n",
              "      <td>Streets, Utilities, and Transportation</td>\n",
              "      <td>37.858368</td>\n",
              "      <td>-122.271212</td>\n",
              "      <td>2745 M L King Jr Way</td>\n",
              "      <td>Closed</td>\n",
              "    </tr>\n",
              "    <tr>\n",
              "      <th>10</th>\n",
              "      <td>Commercial Customer Complaint</td>\n",
              "      <td>Refuse and Recycling</td>\n",
              "      <td>37.865284</td>\n",
              "      <td>-122.298792</td>\n",
              "      <td>2127 Fourth St</td>\n",
              "      <td>Closed</td>\n",
              "    </tr>\n",
              "    <tr>\n",
              "      <th>11</th>\n",
              "      <td>Tree Pruning</td>\n",
              "      <td>Parks, Trees and Vegetation</td>\n",
              "      <td>37.869252</td>\n",
              "      <td>-122.245343</td>\n",
              "      <td>358 Panoramic Way</td>\n",
              "      <td>Closed</td>\n",
              "    </tr>\n",
              "    <tr>\n",
              "      <th>12</th>\n",
              "      <td>Graffiti Abatement - Streets and Utilities</td>\n",
              "      <td>Graffiti and Vandalism</td>\n",
              "      <td>37.859346</td>\n",
              "      <td>-122.265605</td>\n",
              "      <td>2128 Ward St</td>\n",
              "      <td>Closed</td>\n",
              "    </tr>\n",
              "    <tr>\n",
              "      <th>14</th>\n",
              "      <td>Miscellaneous Service Request</td>\n",
              "      <td>General Questions/information</td>\n",
              "      <td>37.850166</td>\n",
              "      <td>-122.271603</td>\n",
              "      <td>3222 Adeline St</td>\n",
              "      <td>Closed</td>\n",
              "    </tr>\n",
              "  </tbody>\n",
              "</table>\n",
              "</div>"
            ],
            "text/plain": [
              "                             issue_description  \\\n",
              "8                                Sewer Problem   \n",
              "10               Commercial Customer Complaint   \n",
              "11                                Tree Pruning   \n",
              "12  Graffiti Abatement - Streets and Utilities   \n",
              "14               Miscellaneous Service Request   \n",
              "\n",
              "                                issue_type   latitude   longitude  \\\n",
              "8   Streets, Utilities, and Transportation  37.858368 -122.271212   \n",
              "10                    Refuse and Recycling  37.865284 -122.298792   \n",
              "11             Parks, Trees and Vegetation  37.869252 -122.245343   \n",
              "12                  Graffiti and Vandalism  37.859346 -122.265605   \n",
              "14           General Questions/information  37.850166 -122.271603   \n",
              "\n",
              "          street_address ticket_status  \n",
              "8   2745 M L King Jr Way        Closed  \n",
              "10        2127 Fourth St        Closed  \n",
              "11     358 Panoramic Way        Closed  \n",
              "12          2128 Ward St        Closed  \n",
              "14       3222 Adeline St        Closed  "
            ]
          },
          "metadata": {}
        }
      ],
      "execution_count": 7,
      "metadata": {
        "collapsed": false,
        "trusted": false
      }
    },
    {
      "cell_type": "code",
      "source": [
        "# what is the distribution of issue types?\n",
        "df_geo['issue_type'].value_counts()"
      ],
      "outputs": [
        {
          "output_type": "execute_result",
          "execution_count": 8,
          "data": {
            "text/plain": [
              "General Questions/information             3\n",
              "Streets, Utilities, and Transportation    2\n",
              "Refuse and Recycling                      2\n",
              "Graffiti and Vandalism                    1\n",
              "Parks, Trees and Vegetation               1\n",
              "Name: issue_type, dtype: int64"
            ]
          },
          "metadata": {}
        }
      ],
      "execution_count": 8,
      "metadata": {
        "collapsed": false,
        "trusted": false
      }
    },
    {
      "cell_type": "markdown",
      "source": [
        "Finally, convert each row in the dataframe to a geojson-formatted feature and save the result as a file. The format is pretty simple and you can see it here: http://geojson.org/"
      ],
      "metadata": {}
    },
    {
      "cell_type": "code",
      "source": [
        "def df_to_geojson(df, properties, lat='latitude', lon='longitude'):\n",
        "    # create a new python dict to contain our geojson data, using geojson format\n",
        "    geojson = {'type':'FeatureCollection', 'features':[]}\n",
        "\n",
        "    # loop through each row in the dataframe and convert each row to geojson format\n",
        "    for _, row in df.iterrows():\n",
        "        # create a feature template to fill in\n",
        "        feature = {'type':'Feature',\n",
        "                   'properties':{},\n",
        "                   'geometry':{'type':'Point',\n",
        "                               'coordinates':[]}}\n",
        "\n",
        "        # fill in the coordinates\n",
        "        feature['geometry']['coordinates'] = [row[lon],row[lat]]\n",
        "\n",
        "        # for each column, get the value and add it as a new feature property\n",
        "        for prop in properties:\n",
        "            feature['properties'][prop] = row[prop]\n",
        "        \n",
        "        # add this feature (aka, converted dataframe row) to the list of features inside our dict\n",
        "        geojson['features'].append(feature)\n",
        "    \n",
        "    return geojson"
      ],
      "outputs": [],
      "execution_count": 9,
      "metadata": {
        "collapsed": false,
        "trusted": false
      }
    },
    {
      "cell_type": "code",
      "source": [
        "cols = ['street_address', 'issue_description', 'issue_type', 'ticket_status']\n",
        "geojson = df_to_geojson(df_geo, cols)"
      ],
      "outputs": [],
      "execution_count": 10,
      "metadata": {
        "collapsed": true,
        "trusted": false
      }
    },
    {
      "cell_type": "markdown",
      "source": [
        "In [nteract](https://github.com/nteract/nteract), we can display geojson directly with the built-in leaflet renderer."
      ],
      "metadata": {}
    },
    {
      "cell_type": "code",
      "source": [
        "import IPython\n",
        "IPython.display.display({'application/geo+json': geojson}, raw=True)"
      ],
      "outputs": [
        {
          "output_type": "display_data",
          "data": {
            "application/geo+json": {
              "features": [
                {
                  "geometry": {
                    "coordinates": [
                      -122.29836418,
                      37.86886879
                    ],
                    "type": "Point"
                  },
                  "properties": {
                    "issue_description": "Miscellaneous Internet Request",
                    "issue_type": "General Questions/information",
                    "street_address": "1900 Sixth St",
                    "ticket_status": "Closed"
                  },
                  "type": "Feature"
                },
                {
                  "geometry": {
                    "coordinates": [
                      -122.30204857,
                      37.87508037
                    ],
                    "type": "Point"
                  },
                  "properties": {
                    "issue_description": "Illegal Dumping - Internet Request",
                    "issue_type": "Streets, Utilities, and Transportation",
                    "street_address": "1465 Fourth St",
                    "ticket_status": "Closed"
                  },
                  "type": "Feature"
                },
                {
                  "geometry": {
                    "coordinates": [
                      -122.28228558,
                      37.84983216
                    ],
                    "type": "Point"
                  },
                  "properties": {
                    "issue_description": "Miscellaneous Internet Request",
                    "issue_type": "General Questions/information",
                    "street_address": "1309 Sixty-Sixth St",
                    "ticket_status": "Closed"
                  },
                  "type": "Feature"
                },
                {
                  "geometry": {
                    "coordinates": [
                      -122.28244883,
                      37.86286617
                    ],
                    "type": "Point"
                  },
                  "properties": {
                    "issue_description": "Residential Cart Size Increase",
                    "issue_type": "Refuse and Recycling",
                    "street_address": "2426 Edwards St",
                    "ticket_status": "Closed"
                  },
                  "type": "Feature"
                },
                {
                  "geometry": {
                    "coordinates": [
                      -122.27121199,
                      37.85836758
                    ],
                    "type": "Point"
                  },
                  "properties": {
                    "issue_description": "Sewer Problem",
                    "issue_type": "Streets, Utilities, and Transportation",
                    "street_address": "2745 M L King Jr Way",
                    "ticket_status": "Closed"
                  },
                  "type": "Feature"
                },
                {
                  "geometry": {
                    "coordinates": [
                      -122.29879225,
                      37.86528437
                    ],
                    "type": "Point"
                  },
                  "properties": {
                    "issue_description": "Commercial Customer Complaint",
                    "issue_type": "Refuse and Recycling",
                    "street_address": "2127 Fourth St",
                    "ticket_status": "Closed"
                  },
                  "type": "Feature"
                },
                {
                  "geometry": {
                    "coordinates": [
                      -122.24534335,
                      37.86925221
                    ],
                    "type": "Point"
                  },
                  "properties": {
                    "issue_description": "Tree Pruning",
                    "issue_type": "Parks, Trees and Vegetation",
                    "street_address": "358 Panoramic Way",
                    "ticket_status": "Closed"
                  },
                  "type": "Feature"
                },
                {
                  "geometry": {
                    "coordinates": [
                      -122.26560452,
                      37.85934573
                    ],
                    "type": "Point"
                  },
                  "properties": {
                    "issue_description": "Graffiti Abatement - Streets and Utilities",
                    "issue_type": "Graffiti and Vandalism",
                    "street_address": "2128 Ward St",
                    "ticket_status": "Closed"
                  },
                  "type": "Feature"
                },
                {
                  "geometry": {
                    "coordinates": [
                      -122.27160282,
                      37.85016581
                    ],
                    "type": "Point"
                  },
                  "properties": {
                    "issue_description": "Miscellaneous Service Request",
                    "issue_type": "General Questions/information",
                    "street_address": "3222 Adeline St",
                    "ticket_status": "Closed"
                  },
                  "type": "Feature"
                }
              ],
              "type": "FeatureCollection"
            }
          },
          "metadata": {}
        }
      ],
      "execution_count": 11,
      "metadata": {
        "collapsed": false,
        "trusted": false
      }
    },
    {
      "cell_type": "markdown",
      "source": [
        "_Known temporary [issue](https://github.com/nteract/nteract/issues/2034): leaflet fails to render_"
      ],
      "metadata": {}
    }
  ],
  "metadata": {
    "LICENSE": "MIT License\n\nCopyright (c) 2016 Geoff Boeing, http://geoffboeing.com\n\nPermission is hereby granted, free of charge, to any person obtaining a copy\nof this software and associated documentation files (the \"Software\"), to deal\nin the Software without restriction, including without limitation the rights\nto use, copy, modify, merge, publish, distribute, sublicense, and/or sell\ncopies of the Software, and to permit persons to whom the Software is\nfurnished to do so, subject to the following conditions:\n\nThe above copyright notice and this permission notice shall be included in all\ncopies or substantial portions of the Software.\n\nTHE SOFTWARE IS PROVIDED \"AS IS\", WITHOUT WARRANTY OF ANY KIND, EXPRESS OR\nIMPLIED, INCLUDING BUT NOT LIMITED TO THE WARRANTIES OF MERCHANTABILITY,\nFITNESS FOR A PARTICULAR PURPOSE AND NONINFRINGEMENT. IN NO EVENT SHALL THE\nAUTHORS OR COPYRIGHT HOLDERS BE LIABLE FOR ANY CLAIM, DAMAGES OR OTHER\nLIABILITY, WHETHER IN AN ACTION OF CONTRACT, TORT OR OTHERWISE, ARISING FROM,\nOUT OF OR IN CONNECTION WITH THE SOFTWARE OR THE USE OR OTHER DEALINGS IN THE\nSOFTWARE.",
    "kernel_info": {
      "name": "python3"
    },
    "kernelspec": {
      "display_name": "Python 3",
      "language": "python",
      "name": "python3"
    },
    "language_info": {
      "name": "python",
      "version": "3.7.2",
      "mimetype": "text/x-python",
      "codemirror_mode": {
        "name": "ipython",
        "version": 3
      },
      "pygments_lexer": "ipython3",
      "nbconvert_exporter": "python",
      "file_extension": ".py"
    },
    "nteract": {
      "version": "nteract-on-jupyter@2.0.0"
    },
    "title": "Go from Pandas to GeoJSON"
  },
  "nbformat": 4,
  "nbformat_minor": 0
}